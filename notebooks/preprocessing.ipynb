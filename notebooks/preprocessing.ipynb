{
 "cells": [
  {
   "cell_type": "markdown",
   "id": "a533a6ad-6ffa-4adc-938e-c651ba640428",
   "metadata": {},
   "source": [
    "# Preprocessing "
   ]
  },
  {
   "cell_type": "code",
   "execution_count": 1,
   "id": "ddfd36c4-56e3-4f03-9d4d-7714c1f58330",
   "metadata": {},
   "outputs": [],
   "source": [
    "import pandas as pd\n",
    "import numpy as np"
   ]
  },
  {
   "cell_type": "code",
   "execution_count": 2,
   "id": "ab995b6e-c960-42d9-8bd4-9d6d310ddc43",
   "metadata": {},
   "outputs": [],
   "source": [
    "interactions = pd.read_csv('../dataset/raw_datasets/interactions.csv')\n",
    "items = pd.read_csv('../dataset/raw_datasets/items.csv')\n",
    "users = pd.read_csv('../dataset/raw_datasets/users.csv')"
   ]
  },
  {
   "cell_type": "markdown",
   "id": "2c167749-aae3-4cf4-9590-ed4dd6d6bf6f",
   "metadata": {},
   "source": [
    "## Первичный preprocessing датасета interactions "
   ]
  },
  {
   "cell_type": "code",
   "execution_count": 3,
   "id": "270bf691-b1db-4f3c-8ab8-d8822b61edf5",
   "metadata": {},
   "outputs": [
    {
     "data": {
      "text/html": [
       "<div>\n",
       "<style scoped>\n",
       "    .dataframe tbody tr th:only-of-type {\n",
       "        vertical-align: middle;\n",
       "    }\n",
       "\n",
       "    .dataframe tbody tr th {\n",
       "        vertical-align: top;\n",
       "    }\n",
       "\n",
       "    .dataframe thead th {\n",
       "        text-align: right;\n",
       "    }\n",
       "</style>\n",
       "<table border=\"1\" class=\"dataframe\">\n",
       "  <thead>\n",
       "    <tr style=\"text-align: right;\">\n",
       "      <th></th>\n",
       "      <th>user_id</th>\n",
       "      <th>item_id</th>\n",
       "      <th>progress</th>\n",
       "      <th>rating</th>\n",
       "      <th>start_date</th>\n",
       "    </tr>\n",
       "  </thead>\n",
       "  <tbody>\n",
       "    <tr>\n",
       "      <th>0</th>\n",
       "      <td>126706</td>\n",
       "      <td>14433</td>\n",
       "      <td>80</td>\n",
       "      <td>NaN</td>\n",
       "      <td>2018-01-01</td>\n",
       "    </tr>\n",
       "    <tr>\n",
       "      <th>1</th>\n",
       "      <td>127290</td>\n",
       "      <td>140952</td>\n",
       "      <td>58</td>\n",
       "      <td>NaN</td>\n",
       "      <td>2018-01-01</td>\n",
       "    </tr>\n",
       "    <tr>\n",
       "      <th>2</th>\n",
       "      <td>66991</td>\n",
       "      <td>198453</td>\n",
       "      <td>89</td>\n",
       "      <td>NaN</td>\n",
       "      <td>2018-01-01</td>\n",
       "    </tr>\n",
       "    <tr>\n",
       "      <th>3</th>\n",
       "      <td>46791</td>\n",
       "      <td>83486</td>\n",
       "      <td>23</td>\n",
       "      <td>5.0</td>\n",
       "      <td>2018-01-01</td>\n",
       "    </tr>\n",
       "    <tr>\n",
       "      <th>4</th>\n",
       "      <td>79313</td>\n",
       "      <td>188770</td>\n",
       "      <td>88</td>\n",
       "      <td>5.0</td>\n",
       "      <td>2018-01-01</td>\n",
       "    </tr>\n",
       "  </tbody>\n",
       "</table>\n",
       "</div>"
      ],
      "text/plain": [
       "   user_id  item_id  progress  rating  start_date\n",
       "0   126706    14433        80     NaN  2018-01-01\n",
       "1   127290   140952        58     NaN  2018-01-01\n",
       "2    66991   198453        89     NaN  2018-01-01\n",
       "3    46791    83486        23     5.0  2018-01-01\n",
       "4    79313   188770        88     5.0  2018-01-01"
      ]
     },
     "execution_count": 3,
     "metadata": {},
     "output_type": "execute_result"
    }
   ],
   "source": [
    "interactions.head()"
   ]
  },
  {
   "cell_type": "code",
   "execution_count": 4,
   "id": "6ea4488f-93af-413d-b9ba-0b1229242ecd",
   "metadata": {},
   "outputs": [
    {
     "name": "stdout",
     "output_type": "stream",
     "text": [
      "<class 'pandas.core.frame.DataFrame'>\n",
      "RangeIndex: 1533078 entries, 0 to 1533077\n",
      "Data columns (total 5 columns):\n",
      " #   Column      Non-Null Count    Dtype  \n",
      "---  ------      --------------    -----  \n",
      " 0   user_id     1533078 non-null  int64  \n",
      " 1   item_id     1533078 non-null  int64  \n",
      " 2   progress    1533078 non-null  int64  \n",
      " 3   rating      285356 non-null   float64\n",
      " 4   start_date  1533078 non-null  object \n",
      "dtypes: float64(1), int64(3), object(1)\n",
      "memory usage: 58.5+ MB\n",
      "None\n",
      "             user_id       item_id      progress         rating  start_date\n",
      "count   1.533078e+06  1.533078e+06  1.533078e+06  285356.000000     1533078\n",
      "unique           NaN           NaN           NaN            NaN         730\n",
      "top              NaN           NaN           NaN            NaN  2019-05-14\n",
      "freq             NaN           NaN           NaN            NaN        3045\n",
      "mean    7.981475e+04  1.604259e+05  4.765807e+01       4.583012         NaN\n",
      "std     4.596514e+04  9.291314e+04  3.835227e+01       0.866997         NaN\n",
      "min     0.000000e+00  1.000000e+00  0.000000e+00       1.000000         NaN\n",
      "25%     4.023200e+04  8.134200e+04  7.000000e+00       5.000000         NaN\n",
      "50%     7.967300e+04  1.589970e+05  4.400000e+01       5.000000         NaN\n",
      "75%     1.197530e+05  2.410260e+05  8.900000e+01       5.000000         NaN\n",
      "max     1.596120e+05  3.217510e+05  1.000000e+02       5.000000         NaN\n"
     ]
    }
   ],
   "source": [
    "print(interactions.info())\n",
    "print(interactions.describe(include='all'))"
   ]
  },
  {
   "cell_type": "code",
   "execution_count": 5,
   "id": "51cb3498-a6ce-4372-a2a8-68aae347648d",
   "metadata": {},
   "outputs": [
    {
     "data": {
      "text/plain": [
       "user_id             0\n",
       "item_id             0\n",
       "progress            0\n",
       "rating        1247722\n",
       "start_date          0\n",
       "dtype: int64"
      ]
     },
     "execution_count": 5,
     "metadata": {},
     "output_type": "execute_result"
    }
   ],
   "source": [
    "interactions.isna().sum()"
   ]
  },
  {
   "cell_type": "code",
   "execution_count": 6,
   "id": "3d9765f4-14b6-4ae3-a288-4c575811434f",
   "metadata": {},
   "outputs": [
    {
     "data": {
      "text/plain": [
       "(1533078, 5)"
      ]
     },
     "execution_count": 6,
     "metadata": {},
     "output_type": "execute_result"
    }
   ],
   "source": [
    "interactions.shape"
   ]
  },
  {
   "cell_type": "markdown",
   "id": "5ab735d2-9ddd-49ff-b1f9-851bbe4f21cc",
   "metadata": {},
   "source": [
    "Преобразование форматов данных с целью оптимизации памяти"
   ]
  },
  {
   "cell_type": "code",
   "execution_count": 7,
   "id": "c2f96807-34bc-45b4-8ba9-f5e02ff35b16",
   "metadata": {},
   "outputs": [],
   "source": [
    "interactions['user_id'] = interactions['user_id'].astype('int32')\n",
    "interactions['item_id'] = interactions['item_id'].astype('int32')\n",
    "interactions['progress'] = interactions['progress'].astype('int8')\n",
    "interactions['rating'] = interactions['rating'].astype(pd.SparseDtype(np.float32, np.nan))\n",
    "interactions['start_date'] = pd.to_datetime(interactions['start_date'])"
   ]
  },
  {
   "cell_type": "code",
   "execution_count": 8,
   "id": "60133a32-9e76-42d4-83e6-03d47645084f",
   "metadata": {},
   "outputs": [],
   "source": [
    "interactions = interactions.sort_values('start_date')"
   ]
  },
  {
   "cell_type": "code",
   "execution_count": 9,
   "id": "863726f7-fbee-460b-b538-9683af240f48",
   "metadata": {},
   "outputs": [
    {
     "name": "stdout",
     "output_type": "stream",
     "text": [
      "1.0 5.0\n",
      "0 100\n"
     ]
    }
   ],
   "source": [
    "print(interactions['rating'].min(), interactions['rating'].max())\n",
    "print(interactions['progress'].min(), interactions['progress'].max())"
   ]
  },
  {
   "cell_type": "markdown",
   "id": "78d94cdc-36bf-4acd-8f24-8bf53923da83",
   "metadata": {},
   "source": [
    "Проверка на наличие полных дубликатов и очистка"
   ]
  },
  {
   "cell_type": "code",
   "execution_count": 10,
   "id": "ed3d9809-4da1-4478-927f-9008bf734e7c",
   "metadata": {},
   "outputs": [
    {
     "name": "stdout",
     "output_type": "stream",
     "text": [
      "0\n"
     ]
    }
   ],
   "source": [
    "duplicate_rows = interactions.duplicated().sum()\n",
    "print(duplicate_rows)"
   ]
  },
  {
   "cell_type": "code",
   "execution_count": 11,
   "id": "d9556142-1744-4c2c-ac33-b0d8bbd0a991",
   "metadata": {},
   "outputs": [
    {
     "name": "stdout",
     "output_type": "stream",
     "text": [
      "Дубликатов пар user-item: 80\n"
     ]
    }
   ],
   "source": [
    "duplicate_pairs = interactions.duplicated(subset=['user_id', 'item_id'], keep='last')\n",
    "print(f\"Дубликатов пар user-item: {duplicate_pairs.sum()}\")"
   ]
  },
  {
   "cell_type": "code",
   "execution_count": 12,
   "id": "1a22121b-8559-461f-8e17-d2cfc2b25f1e",
   "metadata": {},
   "outputs": [],
   "source": [
    "interactions = interactions[~duplicate_pairs]"
   ]
  },
  {
   "cell_type": "code",
   "execution_count": 13,
   "id": "75e305be-ba18-4ed9-9629-49f36dd53c12",
   "metadata": {},
   "outputs": [
    {
     "data": {
      "text/html": [
       "<div>\n",
       "<style scoped>\n",
       "    .dataframe tbody tr th:only-of-type {\n",
       "        vertical-align: middle;\n",
       "    }\n",
       "\n",
       "    .dataframe tbody tr th {\n",
       "        vertical-align: top;\n",
       "    }\n",
       "\n",
       "    .dataframe thead th {\n",
       "        text-align: right;\n",
       "    }\n",
       "</style>\n",
       "<table border=\"1\" class=\"dataframe\">\n",
       "  <thead>\n",
       "    <tr style=\"text-align: right;\">\n",
       "      <th></th>\n",
       "      <th>user_id</th>\n",
       "      <th>item_id</th>\n",
       "      <th>progress</th>\n",
       "      <th>rating</th>\n",
       "      <th>start_date</th>\n",
       "    </tr>\n",
       "  </thead>\n",
       "  <tbody>\n",
       "    <tr>\n",
       "      <th>0</th>\n",
       "      <td>126706</td>\n",
       "      <td>14433</td>\n",
       "      <td>80</td>\n",
       "      <td>NaN</td>\n",
       "      <td>2018-01-01</td>\n",
       "    </tr>\n",
       "    <tr>\n",
       "      <th>1437</th>\n",
       "      <td>97128</td>\n",
       "      <td>245669</td>\n",
       "      <td>1</td>\n",
       "      <td>NaN</td>\n",
       "      <td>2018-01-01</td>\n",
       "    </tr>\n",
       "    <tr>\n",
       "      <th>1436</th>\n",
       "      <td>47427</td>\n",
       "      <td>46915</td>\n",
       "      <td>54</td>\n",
       "      <td>NaN</td>\n",
       "      <td>2018-01-01</td>\n",
       "    </tr>\n",
       "    <tr>\n",
       "      <th>1435</th>\n",
       "      <td>95067</td>\n",
       "      <td>165632</td>\n",
       "      <td>6</td>\n",
       "      <td>NaN</td>\n",
       "      <td>2018-01-01</td>\n",
       "    </tr>\n",
       "    <tr>\n",
       "      <th>1434</th>\n",
       "      <td>110053</td>\n",
       "      <td>141651</td>\n",
       "      <td>86</td>\n",
       "      <td>NaN</td>\n",
       "      <td>2018-01-01</td>\n",
       "    </tr>\n",
       "  </tbody>\n",
       "</table>\n",
       "</div>"
      ],
      "text/plain": [
       "      user_id  item_id  progress  rating start_date\n",
       "0      126706    14433        80     NaN 2018-01-01\n",
       "1437    97128   245669         1     NaN 2018-01-01\n",
       "1436    47427    46915        54     NaN 2018-01-01\n",
       "1435    95067   165632         6     NaN 2018-01-01\n",
       "1434   110053   141651        86     NaN 2018-01-01"
      ]
     },
     "execution_count": 13,
     "metadata": {},
     "output_type": "execute_result"
    }
   ],
   "source": [
    "interactions.head()"
   ]
  },
  {
   "cell_type": "code",
   "execution_count": 56,
   "id": "31323999-a7b0-4cfa-8297-1061c8568bfa",
   "metadata": {},
   "outputs": [],
   "source": [
    "interactions.to_pickle('../dataset/preprocessed_datasets/preprocessed_interactions.pkl')"
   ]
  },
  {
   "cell_type": "markdown",
   "id": "b718ef08-98a7-4320-9514-9324311408d9",
   "metadata": {},
   "source": [
    "## Первичный preprocessing датасета users"
   ]
  },
  {
   "cell_type": "code",
   "execution_count": 15,
   "id": "7f677c8c-7b59-422f-9ece-8602822dc2fa",
   "metadata": {},
   "outputs": [
    {
     "data": {
      "text/html": [
       "<div>\n",
       "<style scoped>\n",
       "    .dataframe tbody tr th:only-of-type {\n",
       "        vertical-align: middle;\n",
       "    }\n",
       "\n",
       "    .dataframe tbody tr th {\n",
       "        vertical-align: top;\n",
       "    }\n",
       "\n",
       "    .dataframe thead th {\n",
       "        text-align: right;\n",
       "    }\n",
       "</style>\n",
       "<table border=\"1\" class=\"dataframe\">\n",
       "  <thead>\n",
       "    <tr style=\"text-align: right;\">\n",
       "      <th></th>\n",
       "      <th>user_id</th>\n",
       "      <th>age</th>\n",
       "      <th>sex</th>\n",
       "    </tr>\n",
       "  </thead>\n",
       "  <tbody>\n",
       "    <tr>\n",
       "      <th>0</th>\n",
       "      <td>1</td>\n",
       "      <td>45_54</td>\n",
       "      <td>NaN</td>\n",
       "    </tr>\n",
       "    <tr>\n",
       "      <th>1</th>\n",
       "      <td>2</td>\n",
       "      <td>18_24</td>\n",
       "      <td>0.0</td>\n",
       "    </tr>\n",
       "    <tr>\n",
       "      <th>2</th>\n",
       "      <td>3</td>\n",
       "      <td>65_inf</td>\n",
       "      <td>0.0</td>\n",
       "    </tr>\n",
       "    <tr>\n",
       "      <th>3</th>\n",
       "      <td>4</td>\n",
       "      <td>18_24</td>\n",
       "      <td>0.0</td>\n",
       "    </tr>\n",
       "    <tr>\n",
       "      <th>4</th>\n",
       "      <td>5</td>\n",
       "      <td>35_44</td>\n",
       "      <td>0.0</td>\n",
       "    </tr>\n",
       "  </tbody>\n",
       "</table>\n",
       "</div>"
      ],
      "text/plain": [
       "   user_id     age  sex\n",
       "0        1   45_54  NaN\n",
       "1        2   18_24  0.0\n",
       "2        3  65_inf  0.0\n",
       "3        4   18_24  0.0\n",
       "4        5   35_44  0.0"
      ]
     },
     "execution_count": 15,
     "metadata": {},
     "output_type": "execute_result"
    }
   ],
   "source": [
    "users.head()"
   ]
  },
  {
   "cell_type": "code",
   "execution_count": 16,
   "id": "77a9cdc1-358f-40bf-8286-c5accaa510fc",
   "metadata": {},
   "outputs": [
    {
     "name": "stdout",
     "output_type": "stream",
     "text": [
      "<class 'pandas.core.frame.DataFrame'>\n",
      "RangeIndex: 142888 entries, 0 to 142887\n",
      "Data columns (total 3 columns):\n",
      " #   Column   Non-Null Count   Dtype  \n",
      "---  ------   --------------   -----  \n",
      " 0   user_id  142888 non-null  int64  \n",
      " 1   age      142742 non-null  object \n",
      " 2   sex      136626 non-null  float64\n",
      "dtypes: float64(1), int64(1), object(1)\n",
      "memory usage: 3.3+ MB\n",
      "None\n",
      "              user_id     age            sex\n",
      "count   142888.000000  142742  136626.000000\n",
      "unique            NaN       6            NaN\n",
      "top               NaN   18_24            NaN\n",
      "freq              NaN   55181            NaN\n",
      "mean     79763.077690     NaN       0.326695\n",
      "std      46068.679277     NaN       0.469006\n",
      "min          1.000000     NaN       0.000000\n",
      "25%      39851.750000     NaN       0.000000\n",
      "50%      79757.500000     NaN       0.000000\n",
      "75%     119651.250000     NaN       1.000000\n",
      "max     159611.000000     NaN       1.000000\n"
     ]
    }
   ],
   "source": [
    "print(users.info())\n",
    "print(users.describe(include='all'))"
   ]
  },
  {
   "cell_type": "code",
   "execution_count": 36,
   "id": "7e5df32d-d062-4b87-9843-996b3bad535c",
   "metadata": {},
   "outputs": [],
   "source": [
    "users['age'] = users['age'].astype('category')\n",
    "users['sex'] = users['sex'].astype(pd.SparseDtype(np.int8, np.nan))"
   ]
  },
  {
   "cell_type": "code",
   "execution_count": 57,
   "id": "3a63f9ba-2287-4fce-b2c4-20ffbd9b9706",
   "metadata": {},
   "outputs": [],
   "source": [
    "users.to_pickle('../dataset/preprocessed_datasets/preprocessed_users.pkl')"
   ]
  },
  {
   "cell_type": "markdown",
   "id": "06be7d5d-95a3-4a26-8cb2-12681ac06b0d",
   "metadata": {},
   "source": [
    "## Первичный preprocessing датасета items"
   ]
  },
  {
   "cell_type": "code",
   "execution_count": 42,
   "id": "d6198a46-dc21-469b-9a9b-2dcb335c0729",
   "metadata": {},
   "outputs": [
    {
     "name": "stdout",
     "output_type": "stream",
     "text": [
      "<class 'pandas.core.frame.DataFrame'>\n",
      "RangeIndex: 59599 entries, 0 to 59598\n",
      "Data columns (total 5 columns):\n",
      " #   Column   Non-Null Count  Dtype \n",
      "---  ------   --------------  ----- \n",
      " 0   id       59599 non-null  int64 \n",
      " 1   title    59599 non-null  object\n",
      " 2   genres   59568 non-null  object\n",
      " 3   authors  52714 non-null  object\n",
      " 4   year     46720 non-null  object\n",
      "dtypes: int64(1), object(4)\n",
      "memory usage: 2.3+ MB\n",
      "None\n",
      "                   id          title                          genres  \\\n",
      "count    59599.000000          59599                           59568   \n",
      "unique            NaN          57358                           10769   \n",
      "top               NaN  Стихотворения  Современная русская литература   \n",
      "freq              NaN             47                            2272   \n",
      "mean    160665.157402            NaN                             NaN   \n",
      "std      92726.533331            NaN                             NaN   \n",
      "min          1.000000            NaN                             NaN   \n",
      "25%      80603.500000            NaN                             NaN   \n",
      "50%     160596.000000            NaN                             NaN   \n",
      "75%     240783.500000            NaN                             NaN   \n",
      "max     321751.000000            NaN                             NaN   \n",
      "\n",
      "              authors   year  \n",
      "count           52714  46720  \n",
      "unique          17265   1053  \n",
      "top     Марина Серова   2018  \n",
      "freq              288   5046  \n",
      "mean              NaN    NaN  \n",
      "std               NaN    NaN  \n",
      "min               NaN    NaN  \n",
      "25%               NaN    NaN  \n",
      "50%               NaN    NaN  \n",
      "75%               NaN    NaN  \n",
      "max               NaN    NaN  \n"
     ]
    }
   ],
   "source": [
    "print(items.info())\n",
    "print(items.describe(include='all'))"
   ]
  },
  {
   "cell_type": "code",
   "execution_count": 48,
   "id": "075200ba-3865-4f24-8b4f-783509d316c7",
   "metadata": {},
   "outputs": [
    {
     "data": {
      "text/plain": [
       "id         59599\n",
       "title      57358\n",
       "genres     10769\n",
       "authors    17265\n",
       "year        1053\n",
       "dtype: int64"
      ]
     },
     "execution_count": 48,
     "metadata": {},
     "output_type": "execute_result"
    }
   ],
   "source": [
    "items.nunique()"
   ]
  },
  {
   "cell_type": "code",
   "execution_count": 52,
   "id": "469a25a2-ec13-414c-bb54-bf382f48dd23",
   "metadata": {},
   "outputs": [],
   "source": [
    "for col in ['genres', 'authors', 'year']:\n",
    "    items[col] = items[col].astype('category')"
   ]
  },
  {
   "cell_type": "code",
   "execution_count": 58,
   "id": "b21e0257-e7dc-46ce-a47a-2694978507c5",
   "metadata": {},
   "outputs": [],
   "source": [
    "items.to_pickle('../dataset/preprocessed_datasets/preprocessed_items.pkl')"
   ]
  },
  {
   "cell_type": "code",
   "execution_count": null,
   "id": "546f12a4-881c-4cd7-802f-bdbae09b2d9a",
   "metadata": {},
   "outputs": [],
   "source": []
  }
 ],
 "metadata": {
  "kernelspec": {
   "display_name": "Python (MTS-LitRecs)",
   "language": "python",
   "name": "mts-litrecs"
  },
  "language_info": {
   "codemirror_mode": {
    "name": "ipython",
    "version": 3
   },
   "file_extension": ".py",
   "mimetype": "text/x-python",
   "name": "python",
   "nbconvert_exporter": "python",
   "pygments_lexer": "ipython3",
   "version": "3.12.3"
  }
 },
 "nbformat": 4,
 "nbformat_minor": 5
}
